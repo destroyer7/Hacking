{
 "cells": [
  {
   "cell_type": "raw",
   "metadata": {},
   "source": [
    "20/9/17\n",
    "nsLookup - Lab\n",
    "$>nslookup\n",
    ">www.google.com\n",
    ">set type=a\n",
    ">set type=mx\n",
    ">set type=SOA\n",
    "$\n",
    "\n",
    "***There is some difference bettween authoritative and non-authoritative info***\n"
   ]
  },
  {
   "cell_type": "raw",
   "metadata": {},
   "source": [
    "***Path analyser pro***\n",
    "You can find this on google\n",
    "Gives various details regarding the route to a server\n",
    "\n",
    "As Advertised\n",
    "##path discovery, whois, firewall detection, geolocation, network testing\n",
    "traceroute finally makes sense-###\n",
    "This is just to get a quick information."
   ]
  },
  {
   "cell_type": "raw",
   "metadata": {},
   "source": [
    "***Ping lab***\n",
    "ping -f -l 1500 //see ping man pages... There are many cool things\n",
    "-f flooding\n",
    "-l preload (set load size)"
   ]
  },
  {
   "cell_type": "code",
   "execution_count": null,
   "metadata": {
    "collapsed": true
   },
   "outputs": [],
   "source": [
    "Install nmap, zenmap, etherape, wireshark"
   ]
  },
  {
   "cell_type": "code",
   "execution_count": null,
   "metadata": {
    "collapsed": true
   },
   "outputs": [],
   "source": [
    "Wireshark filters\n",
    "ip.src = 172.17.50.30  #see traffic from here\n",
    "ip.dst = 172.17.50.30  #see traffic to here\n",
    "ip.addr = 172.17.50.30 #see back and forth traffic to this ip"
   ]
  },
  {
   "cell_type": "code",
   "execution_count": null,
   "metadata": {
    "collapsed": true
   },
   "outputs": [],
   "source": [
    "nmap commands\n",
    "\n",
    "nmap -sT 172.17.50.30/24 ##Scan the whole network> Does a three-way handshake with everyone who has 172.17.50 common. \n",
    "sudo nmap -sS 172.17.50.30/29 #same thing but spoofs hacker's ip address\n",
    "sudo nmap -sU 172.17.50.30/29 #UDP scan\n",
    "nmap -sn --traceroute <ip-addr> #find tracceroute to ip addr\n",
    "'-sN' Null scan\n",
    "'-sX' Christmas scan \n",
    "'-sF' Fin Scan\n",
    "ping, tcp, udp and other scans are also there. See nmap -h for syntax.\n",
    "nmap -O <ip-addr> #OS detection\n"
   ]
  },
  {
   "cell_type": "code",
   "execution_count": null,
   "metadata": {
    "collapsed": true
   },
   "outputs": [],
   "source": [
    "DNS Reconnisance\n",
    "$nslookup\n",
    ">set type=mx #mail record\n",
    "You basically get DNS records and many details.\n",
    "dig is better on linux and nslookup on windows.\n",
    "just look at man pages for more info"
   ]
  },
  {
   "cell_type": "code",
   "execution_count": null,
   "metadata": {
    "collapsed": true
   },
   "outputs": [],
   "source": [
    "web data extractor\n",
    "google it and download\n",
    "Use it to extract e-mail, urls and data from web pages"
   ]
  },
  {
   "cell_type": "markdown",
   "metadata": {},
   "source": [
    "Default Password List\n",
    "jsut google it- you'll get defualt passwords of various services"
   ]
  },
  {
   "cell_type": "code",
   "execution_count": null,
   "metadata": {
    "collapsed": true
   },
   "outputs": [],
   "source": [
    "GetAcct - Tool to get user accounts and many more details from the target\n",
    "Keep RID high\n",
    "#find alternative software as this is very old"
   ]
  },
  {
   "cell_type": "code",
   "execution_count": null,
   "metadata": {
    "collapsed": true
   },
   "outputs": [],
   "source": [
    "nbtstat - there in windows\n",
    "$nbtstat -a [ip-address]\n",
    "#gives some info about the target (maybe servers)"
   ]
  },
  {
   "cell_type": "code",
   "execution_count": null,
   "metadata": {
    "collapsed": true
   },
   "outputs": [],
   "source": [
    "net use (windows)# a powerful to get OS level (more than administrator) previliges\n",
    "$net use \\\\192.168.131.128\\IPC$ /u:\"\" \"\"\n",
    "After doing this enumeration tools will give you some really good results when you point it to this target.\n"
   ]
  },
  {
   "cell_type": "code",
   "execution_count": null,
   "metadata": {
    "collapsed": true
   },
   "outputs": [],
   "source": [
    "netdiscover (Kali)\n",
    "$netdiscover\n",
    "get ip address, MAC address, Vendor, count, len"
   ]
  },
  {
   "cell_type": "code",
   "execution_count": null,
   "metadata": {
    "collapsed": true
   },
   "outputs": [],
   "source": [
    "check macof(Kali)\n",
    "$macof\n",
    "#flooding the network with traffic. just check it once"
   ]
  },
  {
   "cell_type": "code",
   "execution_count": null,
   "metadata": {
    "collapsed": true
   },
   "outputs": [],
   "source": [
    "If you are not able to install anything (E: Could not get lock /var/lib/dpkg/lock - open (11: Resource temporarily unavailable)\n",
    "E: Unable to lock the administration directory (/var/lib/dpkg/), is another process using it?\n",
    ")\n",
    "then use \n",
    "naren@naren-Lenovo-Z51-70:~$ sudo pkill -9 apt\n",
    "naren@naren-Lenovo-Z51-70:~$ sudo apt install whateveryouwant\n",
    "http://localhost:8888/notebooks/hacking/cybrary.ipynb#"
   ]
  },
  {
   "cell_type": "code",
   "execution_count": null,
   "metadata": {
    "collapsed": true
   },
   "outputs": [],
   "source": [
    "Null sessions - smbclient (linux) #just like netuse in windows\n"
   ]
  },
  {
   "cell_type": "code",
   "execution_count": null,
   "metadata": {
    "collapsed": true
   },
   "outputs": [],
   "source": [
    "SuperScan- Windows"
   ]
  }
 ],
 "metadata": {
  "kernelspec": {
   "display_name": "Python 2",
   "language": "python",
   "name": "python2"
  },
  "language_info": {
   "codemirror_mode": {
    "name": "ipython",
    "version": 2
   },
   "file_extension": ".py",
   "mimetype": "text/x-python",
   "name": "python",
   "nbconvert_exporter": "python",
   "pygments_lexer": "ipython2",
   "version": "2.7.12"
  }
 },
 "nbformat": 4,
 "nbformat_minor": 2
}
